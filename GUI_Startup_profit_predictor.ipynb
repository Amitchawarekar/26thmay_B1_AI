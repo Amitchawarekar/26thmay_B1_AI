{
 "cells": [
  {
   "cell_type": "code",
   "execution_count": null,
   "metadata": {},
   "outputs": [],
   "source": [
    "import pandas as pd\n",
    "import warnings\n",
    "warnings.filterwarnings('ignore') \n",
    "import tkinter as tk"
   ]
  },
  {
   "cell_type": "code",
   "execution_count": 2,
   "metadata": {},
   "outputs": [],
   "source": [
    "model = pd.read_pickle('StartupProfitPredictor')"
   ]
  },
  {
   "cell_type": "code",
   "execution_count": 3,
   "metadata": {},
   "outputs": [
    {
     "data": {
      "text/plain": [
       "LinearRegression()"
      ]
     },
     "execution_count": 3,
     "metadata": {},
     "output_type": "execute_result"
    }
   ],
   "source": [
    "model"
   ]
  },
  {
   "cell_type": "code",
   "execution_count": 34,
   "metadata": {},
   "outputs": [],
   "source": [
    "import math\n",
    "\n",
    "root=tk.Tk()\n",
    "root.config(bg=\"white\")\n",
    "root.geometry('400x280')\n",
    "root.title(\"StartupProfitPredictor\")\n",
    "\n",
    "tk.Label(root,text='Startup Profit Predictor',bg='crimson',fg='White',font=('goudy old style',15,'bold')).place(x=0,y=0,relwidth=1)\n",
    "tk.Label(root,width=20,text=\"R&D Amount Spend\",fg=\"black\",bg=\"white\",font=('goudy old style',13,'bold')).place(x=0,y=40)\n",
    "tk.Label(root,width=20,text=\"Marketing Amount Spend\",fg=\"black\",bg=\"white\",font=('goudy old style',13,'bold')).place(x=0,y=70)\n",
    "tk.Label(root,width=15,text=\"Total Profit :\",bg=\"light blue\",fg='red',font=(\"Helvetica\", 15,\"bold\")).place(x=20,y=220)\n",
    "\n",
    "\n",
    "\n",
    "RD_spend=tk.Variable(root)\n",
    "marketing_spend=tk.Variable(root)\n",
    "\n",
    "\n",
    "tk.Entry(root,width=25,textvariable=RD_spend,font=('Arial',10),bg='light yellow').place(x=210,y=40)\n",
    "tk.Entry(root,width=25,textvariable=marketing_spend,font=('Arial',10),bg='light yellow').place(x=210,y=70)\n",
    "\n",
    "predict_var = tk.Variable(root)\n",
    "tk.Label(root,textvariable=predict_var,fg=\"crimson\",bg='white',font=(\"Helvetica\", 15,\"bold\")).place(x=200,y=220)\n",
    "def predict():\n",
    "    a=RD_spend.get()\n",
    "    b=marketing_spend.get()\n",
    "    query = pd.DataFrame({'R&D Amount Spend':[a],'Marketing Amount Spend':[b]\n",
    "        })\n",
    "    #n=\"%.1f$'%(model.predict(query)[0])\"\n",
    "    e=model.predict(query)[0]\n",
    "    predict_var.set(f'{e}$')\n",
    "    RD_spend.set('')\n",
    "    marketing_spend.set('')\n",
    "    \n",
    "    \n",
    "    \n",
    "tk.Button(root,text=\"Predict Price\",command=predict,bg=\"green\",fg=\"white\",font=('Times new Roman',13,'bold'),cursor='hand2').place(x=150,y=140) \n",
    "root.mainloop()"
   ]
  },
  {
   "cell_type": "code",
   "execution_count": null,
   "metadata": {},
   "outputs": [],
   "source": []
  }
 ],
 "metadata": {
  "kernelspec": {
   "display_name": "Python 3",
   "language": "python",
   "name": "python3"
  },
  "language_info": {
   "codemirror_mode": {
    "name": "ipython",
    "version": 3
   },
   "file_extension": ".py",
   "mimetype": "text/x-python",
   "name": "python",
   "nbconvert_exporter": "python",
   "pygments_lexer": "ipython3",
   "version": "3.8.5"
  }
 },
 "nbformat": 4,
 "nbformat_minor": 4
}
